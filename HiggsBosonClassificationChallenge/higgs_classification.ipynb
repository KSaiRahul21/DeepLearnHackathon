{
  "cells": [
    {
      "cell_type": "markdown",
      "metadata": {
        "colab_type": "text",
        "id": "view-in-github"
      },
      "source": [
        "<a href=\"https://colab.research.google.com/github/ML4SCI/DeepLearnHackathon/blob/main/HiggsBosonClassificationChallenge/higgs_classification.ipynb\" target=\"_parent\"><img src=\"https://colab.research.google.com/assets/colab-badge.svg\" alt=\"Open In Colab\"/></a>"
      ]
    },
    {
      "cell_type": "markdown",
      "metadata": {
        "id": "9URMW3ZkrBGi"
      },
      "source": [
        "# Higgs Classification Challenge"
      ]
    },
    {
      "cell_type": "markdown",
      "metadata": {
        "id": "T4kV4R6SDR8X"
      },
      "source": [
        "**Background:** High-energy collisions at the Large Hadron Collider (LHC) <br> produce particles that interact with particle detectors. One important task is <br>\n",
        "to classify different types of collisions based on their physics content,<br> allowing physicists to find patterns in the data and to potentially unravel new <br> discoveries."
      ]
    },
    {
      "cell_type": "markdown",
      "metadata": {
        "id": "fHw_uCCcHJqn"
      },
      "source": [
        "**Problem statement:** The discovery of the Higgs boson by CMS and ATLAS <br>\n",
        "Collaborations was announced at CERN in 2012. In this challenge, we will use <br>\n",
        "machine learning to classify events containing Higgs bosons from the background <br>\n",
        "events which do not contain Higgs bosons."
      ]
    },
    {
      "cell_type": "markdown",
      "metadata": {
        "id": "qAJnE-4uANmP"
      },
      "source": [
        "**Dataset:** The dataset is hosted by the Center for Machine Learning  <br>\n",
        "and Intelligent Systems at University of California, Irvine. <br>\n",
        "The dataset can be found on the [UCI Machine learning Repository](https://archive.ics.uci.edu/ml/datasets/HIGGS)"
      ]
    },
    {
      "cell_type": "markdown",
      "metadata": {
        "id": "5u1kJGUdAZ9m"
      },
      "source": [
        "**Description:** The dataset consists of a total of 11 million labeled samples <br>\n",
        "of Higgs and background events produced by Monte Carlo simulations. Each sample <br>\n",
        "consists of 28 features. The first 21 features are kinematic properties <br>\n",
        "of the events. The last seven are functions of the first 21. The data labels <br>\n",
        "are 1 for signal (an event with Higgs bosons) and 0 for background (an event <br>\n",
        "without Higgs bosons)."
      ]
    },
    {
      "cell_type": "markdown",
      "metadata": {
        "id": "myu16dmzSBmo"
      },
      "source": [
        "**Steps to load the training dataset**   \n",
        "If you are having problems with this part in Colab, you can also download the file manually and put it in your Google Drive. You can then [connect your Google Drive to Colab](https://towardsdatascience.com/different-ways-to-connect-google-drive-to-a-google-colab-notebook-pt-1-de03433d2f7a)\n",
        "\n",
        "1. Download the dataset from the UCI website."
      ]
    },
    {
      "cell_type": "code",
      "execution_count": null,
      "metadata": {
        "id": "mrM-WOaxRWsP"
      },
      "outputs": [],
      "source": [
        "!wget https://archive.ics.uci.edu/ml/machine-learning-databases/00280/HIGGS.csv.gz"
      ]
    },
    {
      "cell_type": "markdown",
      "metadata": {
        "id": "0xHJtIbPVT-n"
      },
      "source": [
        "2. Unzip the dataset folder"
      ]
    },
    {
      "cell_type": "code",
      "execution_count": null,
      "metadata": {
        "id": "2J3v5kgbSrjx"
      },
      "outputs": [],
      "source": [
        "!gzip -d HIGGS.csv.gz"
      ]
    },
    {
      "cell_type": "code",
      "execution_count": null,
      "metadata": {
        "id": "MUE2QepFVwEq"
      },
      "outputs": [],
      "source": [
        "from sklearn.model_selection import train_test_split\n",
        "import pandas as pd\n",
        "import numpy as np\n",
        "np.random.seed(1337)  # for reproducibility\n",
        "import matplotlib.pyplot as plt"
      ]
    },
    {
      "cell_type": "markdown",
      "metadata": {
        "id": "4GDeVfB04Qe4"
      },
      "source": [
        "**Load the file using pandas library**"
      ]
    },
    {
      "cell_type": "code",
      "execution_count": null,
      "metadata": {
        "id": "Jxfnd8shK0vq"
      },
      "outputs": [],
      "source": [
        "data = pd.read_csv('./HIGGS.csv', header=None)"
      ]
    },
    {
      "cell_type": "markdown",
      "metadata": {
        "id": "ZTnbxdjkUp73"
      },
      "source": [
        "The first column is the labels (y). The other columns are all of our inputs (X).\n",
        "\n",
        "The above dataset is a pandas dataframe. We can access the data using iloc. <br>\n",
        "After that, we can turn it into a numpy array if we want or leave it as a <br>\n",
        "pandas dataframe. **Use whatever you feel most comfortable with**.\n"
      ]
    },
    {
      "cell_type": "code",
      "execution_count": null,
      "metadata": {
        "id": "hoRPhH9dNmCy"
      },
      "outputs": [],
      "source": [
        "X = data.iloc[:,1:]\n",
        "y = data.iloc[:,0]\n",
        "#X = X.to_numpy(dtype=float) #Convert pandas dataframe to numpy array (optional)\n",
        "#y = y.to_numpy(dtype=int)   #Convert pandas dataframe to numpy array (optional)"
      ]
    },
    {
      "cell_type": "code",
      "execution_count": null,
      "metadata": {
        "colab": {
          "base_uri": "https://localhost:8080/"
        },
        "id": "XYHGU33UgViE",
        "outputId": "31f156d7-c1eb-4b4f-a9b8-35af970dbf7d"
      },
      "outputs": [
        {
          "name": "stdout",
          "output_type": "stream",
          "text": [
            "(11000000, 28)\n"
          ]
        }
      ],
      "source": [
        "print(X.shape)"
      ]
    },
    {
      "cell_type": "markdown",
      "metadata": {
        "id": "r6-xG2T41Qkv"
      },
      "source": [
        "To generate the following examples we used a smaller dataset containing only <br>\n",
        "10,000 events. You may want to do something similar while getting your code <br>\n",
        "set up but you should eventually use the full dataset.\n",
        "\n",
        "**For final hackathon task submissions you must use the full test set.**"
      ]
    },
    {
      "cell_type": "code",
      "execution_count": null,
      "metadata": {
        "id": "V-7QmHPK1Oe1"
      },
      "outputs": [],
      "source": [
        "X = X[:11000]\n",
        "y = y[:11000]"
      ]
    },
    {
      "cell_type": "code",
      "execution_count": null,
      "metadata": {
        "colab": {
          "base_uri": "https://localhost:8080/",
          "height": 472
        },
        "id": "pz3F8doFfuvn",
        "outputId": "58d7003a-92ef-410a-9dec-02f2f9c3c763"
      },
      "outputs": [
        {
          "data": {
            "image/png": "[encoded data removed]",
            "text/plain": [
              "<Figure size 640x480 with 1 Axes>"
            ]
          },
          "metadata": {},
          "output_type": "display_data"
        }
      ],
      "source": [
        "plt.hist(X.iloc[:,0], bins=30)\n",
        "plt.title(\"lepton pT\")\n",
        "plt.xlabel(\"lepton pT\")\n",
        "plt.ylabel(\"number of events\")\n",
        "plt.show()"
      ]
    },
    {
      "cell_type": "markdown",
      "metadata": {
        "id": "hQX3GUrVUe7N"
      },
      "source": [
        "Next we can split our data into 9mil training data, 1mil validation data, 1mil <br>\n",
        "test data.\n",
        "\n",
        "For the rest of this hackathon, use `X_train`, `X_val`, `X_test` as input <br>\n",
        "data and `y_train`, `y_val`, `y_test` as output data."
      ]
    },
    {
      "cell_type": "code",
      "execution_count": null,
      "metadata": {
        "id": "50-8I-fj8jC7"
      },
      "outputs": [],
      "source": [
        "X_train, X_val1, y_train, y_val1 = train_test_split(X, y, test_size=0.0909090909, random_state=42)\n",
        "X_val, X_test, y_val, y_test = train_test_split(X_val1, y_val1, test_size=0.5, random_state=42)"
      ]
    },
    {
      "cell_type": "code",
      "execution_count": null,
      "metadata": {
        "colab": {
          "base_uri": "https://localhost:8080/"
        },
        "id": "o856c_zDfJ-S",
        "outputId": "50281608-29b2-4f72-a408-0b4ae7e7d1e4"
      },
      "outputs": [
        {
          "name": "stdout",
          "output_type": "stream",
          "text": [
            "(10000, 28)\n",
            "(500, 28)\n",
            "(500, 28)\n",
            "(10000,)\n",
            "(500,)\n",
            "(500,)\n"
          ]
        }
      ],
      "source": [
        "print(X_train.shape)\n",
        "print(X_val.shape)\n",
        "print(X_test.shape)\n",
        "print(y_train.shape)\n",
        "print(y_val.shape)\n",
        "print(y_test.shape)"
      ]
    },
    {
      "cell_type": "markdown",
      "metadata": {
        "id": "ld4APrANmSJ6"
      },
      "source": [
        "## **REMINDER: Use the Higgs dataset provided above for the Hackathon**"
      ]
    },
    {
      "cell_type": "markdown",
      "metadata": {
        "id": "PexwSVQ34M_l"
      },
      "source": [
        "## Hackathon Task 1:\n",
        "\n",
        "Data: `X_train`\n",
        "\n",
        "Generate histograms of the different variables in `X_train` with proper axis <br>\n",
        "labels and titles.\n",
        "\n",
        "Detailed information on what each feature column is can be found in <br> *Attribute Information* section on the [UCI Machine learning Repository](https://archive.ics.uci.edu/ml/datasets/HIGGS). <br>\n",
        "For further information, refer to the [paper](https://www.nature.com/articles/ncomms5308) by Baldi et. al\n",
        "\n",
        "**Hint:** The first item is lepton pT.\n",
        "\n",
        "The following may be helpful:\n",
        "\n",
        "`names = [\"lepton pT\", \"lepton eta\", \"lepton phi\", \"missing energy magnitude\",` <br>\n",
        "`\"missing energy phi\", \"jet 1 pt\", \"jet 1 eta\", \"jet 1 phi\", \"jet 1 b-tag\",` <br>\n",
        "`\"jet 2 pt\", \"jet 2 eta\",\"jet 2 phi\", \"jet 2 b-tag\", \"jet 3 pt\", \"jet 3 eta\",` <br>\n",
        "`\"jet 3 phi\", \"jet 3 b-tag\", \"jet 4 pt\", \"jet 4 eta\", \"jet 4 phi\", \"jet 4 b-tag\",`<br>` \"m_jj\", \"m_jjj\", \"m_lv\", \"m_jlv\", \"m_bb\", \"m_wbb\", \"m_wwbb\"]`\n",
        "\n",
        "`for index, name in enumerate(names):`"
      ]
    },
    {
      "cell_type": "markdown",
      "metadata": {
        "id": "DBJaFEoGApL5"
      },
      "source": [
        "## Hackathon Task 2:\n",
        "\n",
        "Data: `X_train`, `y_train`, `X_val`, `y_val`\n",
        "\n",
        "Train a model by fitting it to the training data. Use at least one metric <br>\n",
        "such as roc_auc_score, accuracy, etc. to analyze the model's performance on the <br>\n",
        "validation data. Using that performance metric, optimize or improve your model. <br>\n",
        "It should be clear from your notebook how you perform this optimization."
      ]
    },
    {
      "cell_type": "markdown",
      "metadata": {
        "id": "G3t0NHGQa-yb"
      },
      "source": [
        "## Hackathon Task 3:\n",
        "\n",
        "Data: `X_test`, `y_test`\n",
        "\n",
        "**Note: The test data should be used only for final performance evaluation.** <br>\n",
        "**Validation data can be used to tune your model but test data should not be** <br>\n",
        "**used for model tuning.**\n",
        "\n",
        "Without having done any optimization using the testing data set, analyze the <br>\n",
        "performance of the model on the testing data. Your analysis should include <br> [roc_auc_score](https://scikit-learn.org/stable/modules/generated/sklearn.metrics.roc_auc_score.html), a ROC curve plot, and at least one other plot of your choice<br>\n",
        "such as precision-recall curves, confusion matrix, etc.\n"
      ]
    },
    {
      "cell_type": "markdown",
      "metadata": {
        "id": "9euTzbAUy1ty"
      },
      "source": [
        "# Deliverables:\n",
        "\n",
        "**Reminder: The hackathon tasks should be done using the Higgs dataset.** <br>\n",
        "A pdf of the notebook with all three hackathon tasks completed. <br>\n",
        "A copy of your colab/jupyter notebook with all three hackathon tasks completed. <br>\n",
        "\n",
        "\n",
        "File name convention: Try to give your submission files descriptive names, e.g. \"Higgs_Yourname.pdf\" and  <br>\n",
        "\"Higgs_Yourname.ipynb\".\n"
      ]
    },
    {
      "cell_type": "markdown",
      "metadata": {
        "id": "cYXn_2LHe5kv"
      },
      "source": [
        "# Examples\n",
        "\n",
        "The examples below use a different dataset (breast cancer diagnosis dataset) than what is provided above. Please use the Higgs data set for the hackathon.\n",
        "\n",
        "Note: The following examples are meant to provide a starting point. You are encouraged to get creative. Feel free to look back to earlier assignments for inspiration and code examples."
      ]
    },
    {
      "cell_type": "markdown",
      "metadata": {
        "id": "yGXUxuiMY4Uc"
      },
      "source": [
        "## Decision Tree Example"
      ]
    },
    {
      "cell_type": "code",
      "execution_count": null,
      "metadata": {
        "id": "2YCd_u1aWj7N"
      },
      "outputs": [],
      "source": [
        "from sklearn.ensemble import AdaBoostClassifier\n",
        "from sklearn.metrics import accuracy_score\n",
        "from sklearn.tree import DecisionTreeClassifier\n",
        "from sklearn.metrics import confusion_matrix\n",
        "from sklearn.datasets import load_breast_cancer\n",
        "from sklearn.model_selection import train_test_split"
      ]
    },
    {
      "cell_type": "code",
      "execution_count": null,
      "metadata": {
        "id": "jNkp9ozCXClU"
      },
      "outputs": [],
      "source": [
        "dataset = load_breast_cancer() #Use the Higgs dataset for the hackathon\n",
        "X = dataset[\"data\"]\n",
        "y = dataset[\"target\"]"
      ]
    },
    {
      "cell_type": "code",
      "execution_count": null,
      "metadata": {
        "colab": {
          "base_uri": "https://localhost:8080/"
        },
        "id": "tNUQzTOQZfdj",
        "outputId": "9a810704-47c9-4f82-f147-99d6c8b414dc"
      },
      "outputs": [
        {
          "name": "stdout",
          "output_type": "stream",
          "text": [
            "(569, 30)\n",
            "(569,)\n"
          ]
        }
      ],
      "source": [
        "print(X.shape)\n",
        "print(y.shape)"
      ]
    },
    {
      "cell_type": "code",
      "execution_count": null,
      "metadata": {
        "id": "YxGxtdyZW-7F"
      },
      "outputs": [],
      "source": [
        "X_train, X_test, y_train, y_test = train_test_split(X, y, test_size=0.3, random_state=42)"
      ]
    },
    {
      "cell_type": "code",
      "execution_count": null,
      "metadata": {
        "id": "NYF4jBySWprd"
      },
      "outputs": [],
      "source": [
        "classifier = AdaBoostClassifier(\n",
        "    DecisionTreeClassifier(max_depth=1),\n",
        "    n_estimators=200,\n",
        "    random_state=42\n",
        ")"
      ]
    },
    {
      "cell_type": "code",
      "execution_count": null,
      "metadata": {
        "id": "ahZQZ4smWxU3"
      },
      "outputs": [],
      "source": [
        "classifier.fit(X_train, y_train)"
      ]
    },
    {
      "cell_type": "code",
      "execution_count": null,
      "metadata": {
        "id": "dKOvAzrdWzBu"
      },
      "outputs": [],
      "source": [
        "predictions = classifier.predict(X_test)"
      ]
    },
    {
      "cell_type": "code",
      "execution_count": null,
      "metadata": {
        "id": "VwzQdVKEW3EP"
      },
      "outputs": [],
      "source": [
        "y_hat = classifier.predict_proba(X_test)[:, 1]"
      ]
    },
    {
      "cell_type": "code",
      "execution_count": null,
      "metadata": {
        "colab": {
          "base_uri": "https://localhost:8080/"
        },
        "id": "PTgawZpIW5-P",
        "outputId": "82abc5e6-daec-410e-eaef-5d1aa8370bb9"
      },
      "outputs": [
        {
          "data": {
            "text/plain": [
              "array([[ 62,   1],\n",
              "       [  2, 106]])"
            ]
          },
          "execution_count": 18,
          "metadata": {},
          "output_type": "execute_result"
        }
      ],
      "source": [
        "confusion_matrix(y_test, predictions)"
      ]
    },
    {
      "cell_type": "code",
      "execution_count": null,
      "metadata": {
        "colab": {
          "base_uri": "https://localhost:8080/"
        },
        "id": "Vj8aIHQVZWQY",
        "outputId": "d50115d3-e23c-4294-a974-833d3f4501e6"
      },
      "outputs": [
        {
          "data": {
            "text/plain": [
              "0.9824561403508771"
            ]
          },
          "execution_count": 19,
          "metadata": {},
          "output_type": "execute_result"
        }
      ],
      "source": [
        "accuracy_score(y_test, predictions)"
      ]
    },
    {
      "cell_type": "code",
      "execution_count": null,
      "metadata": {
        "id": "U3uBAKmgrBGn",
        "outputId": "cca244c9-41a9-4379-e35b-5d252d932584"
      },
      "outputs": [
        {
          "data": {
            "image/png": "[encoded data removed]",
            "text/plain": [
              "<Figure size 640x480 with 1 Axes>"
            ]
          },
          "metadata": {},
          "output_type": "display_data"
        }
      ],
      "source": [
        "import matplotlib.pyplot as plt\n",
        "from sklearn.metrics import RocCurveDisplay, roc_auc_score, roc_curve\n",
        "\n",
        "display = RocCurveDisplay.from_predictions(\n",
        "    y_test, y_hat,\n",
        "    color=\"darkorange\",\n",
        "    # plot_chance_level=True,\n",
        ")\n",
        "_ = display.ax_.set(\n",
        "    xlabel=\"False Positive Rate\",\n",
        "    ylabel=\"True Positive Rate\",\n",
        "    title=\"Receiver operating characteristic\",\n",
        ")\n"
      ]
    },
    {
      "cell_type": "markdown",
      "metadata": {
        "id": "0ORFeTP0Yu7R"
      },
      "source": [
        "## Basic Neural Network Example"
      ]
    },
    {
      "cell_type": "code",
      "execution_count": null,
      "metadata": {
        "id": "k_I4kazT3_3c"
      },
      "outputs": [],
      "source": [
        "from numpy import loadtxt\n",
        "from torch import nn\n",
        "import torch\n",
        "from sklearn.datasets import load_breast_cancer\n",
        "from torch.utils.data import Dataset, DataLoader\n",
        "import sklearn.preprocessing"
      ]
    },
    {
      "cell_type": "code",
      "execution_count": null,
      "metadata": {
        "colab": {
          "base_uri": "https://localhost:8080/"
        },
        "id": "2rcPG-UX3kkq",
        "outputId": "411cf898-337f-4ca6-e5b6-b3f5a223383a"
      },
      "outputs": [
        {
          "data": {
            "text/plain": [
              "Sequential(\n",
              "  (0): Linear(in_features=30, out_features=64, bias=True)\n",
              "  (1): ReLU()\n",
              "  (2): Linear(in_features=64, out_features=8, bias=True)\n",
              "  (3): ReLU()\n",
              "  (4): Linear(in_features=8, out_features=2, bias=True)\n",
              ")"
            ]
          },
          "execution_count": 22,
          "metadata": {},
          "output_type": "execute_result"
        }
      ],
      "source": [
        "model_nn = nn.Sequential()\n",
        "model_nn.append(nn.Linear(30, 64))\n",
        "model_nn.append(nn.ReLU())\n",
        "model_nn.append(nn.Linear(64, 8))\n",
        "model_nn.append(nn.ReLU())\n",
        "model_nn.append(nn.Linear(8, 2))"
      ]
    },
    {
      "cell_type": "code",
      "execution_count": null,
      "metadata": {
        "id": "54Z-3swHePns"
      },
      "outputs": [],
      "source": [
        "dataset = load_breast_cancer() #Use the Higgs dataset for the hackathon\n",
        "X = dataset[\"data\"]\n",
        "y = dataset[\"target\"]"
      ]
    },
    {
      "cell_type": "code",
      "execution_count": null,
      "metadata": {
        "colab": {
          "base_uri": "https://localhost:8080/"
        },
        "id": "orlS9BCgMCkO",
        "outputId": "df44694c-4619-428c-ad6f-259fcbcb6cd9"
      },
      "outputs": [
        {
          "name": "stdout",
          "output_type": "stream",
          "text": [
            "(569, 30)\n",
            "(569,)\n"
          ]
        }
      ],
      "source": [
        "print(X.shape)\n",
        "print(y.shape)"
      ]
    },
    {
      "cell_type": "code",
      "execution_count": null,
      "metadata": {
        "id": "sI4Z-MvfLzl2"
      },
      "outputs": [],
      "source": [
        "# Note: The Higgs dataset is already pre-scaled so this step is not necessary\n",
        "# in the actual hackathon\n",
        "scaler = sklearn.preprocessing.StandardScaler()\n",
        "scaler = scaler.fit(X)\n",
        "X = scaler.transform(X)"
      ]
    },
    {
      "cell_type": "code",
      "execution_count": null,
      "metadata": {
        "colab": {
          "base_uri": "https://localhost:8080/"
        },
        "id": "dj-_nGd2ePns",
        "outputId": "b2776ac8-8a83-4459-a238-fce10b1337d0"
      },
      "outputs": [
        {
          "name": "stdout",
          "output_type": "stream",
          "text": [
            "(569, 30)\n",
            "(569,)\n"
          ]
        }
      ],
      "source": [
        "print(X.shape)\n",
        "print(y.shape)"
      ]
    },
    {
      "cell_type": "code",
      "execution_count": null,
      "metadata": {
        "id": "0PuqNjbeaETc"
      },
      "outputs": [],
      "source": [
        "X_train, X_test1, y_train, y_test1 = train_test_split(X, y, test_size=0.3, random_state=42)\n",
        "X_test, X_val, y_test, y_val = train_test_split(X_test1, y_test1, test_size=0.5, random_state=42)"
      ]
    },
    {
      "cell_type": "code",
      "execution_count": null,
      "metadata": {
        "id": "yWpqs4K-GP7q"
      },
      "outputs": [],
      "source": [
        "class PytorchDataset(Dataset):\n",
        "    def __init__(self, X, y):\n",
        "        self.X = torch.from_numpy(X.copy()).float()\n",
        "        self.y = torch.from_numpy(y.copy()).long()\n",
        "    def __len__(self):\n",
        "        return len(self.X)\n",
        "    def __getitem__(self, idx):\n",
        "        return self.X[idx], self.y[idx]"
      ]
    },
    {
      "cell_type": "code",
      "execution_count": null,
      "metadata": {
        "id": "hZZXNE_PGUSI"
      },
      "outputs": [],
      "source": [
        "train_data = PytorchDataset(X_train, y_train)\n",
        "val_data = PytorchDataset(X_val, y_val)\n",
        "test_data = PytorchDataset(X_test, y_test)\n",
        "\n",
        "train_loader = DataLoader(train_data, batch_size=5, shuffle=True)\n",
        "test_loader = DataLoader(test_data, batch_size=5, shuffle=False)\n",
        "val_loader = DataLoader(val_data, batch_size=5, shuffle=False)"
      ]
    },
    {
      "cell_type": "code",
      "execution_count": null,
      "metadata": {
        "id": "-JCcP-JYFipH"
      },
      "outputs": [],
      "source": [
        "def train_and_validate(train_loader, val_loader, model, optimizer, criterion, metric, num_epochs):\n",
        "    history = {\n",
        "        'epoch': [],\n",
        "        'train_loss': [],\n",
        "        'train_metric': [],\n",
        "        'val_loss': [],\n",
        "        'val_metric': []\n",
        "    }  # Initialize a dictionary to store epoch-wise results\n",
        "\n",
        "    for epoch in range(num_epochs):\n",
        "        model.train()  # Set the model to training mode\n",
        "        epoch_loss = 0.0  # Initialize the epoch loss and metric values\n",
        "        epoch_metric = 0.0\n",
        "\n",
        "        # Training loop\n",
        "        for X, y in train_loader:\n",
        "            optimizer.zero_grad()  # Clear existing gradients\n",
        "            outputs = model(X)  # Make predictions\n",
        "            loss = criterion(outputs, y)  # Compute the loss\n",
        "            loss.backward()  # Compute gradients\n",
        "            optimizer.step()  # Update model parameters\n",
        "\n",
        "            epoch_loss += loss.item()\n",
        "            epoch_metric += metric(outputs, y)\n",
        "\n",
        "        # Average training loss and metric\n",
        "        epoch_loss /= len(train_loader)\n",
        "        epoch_metric /= len(train_loader)\n",
        "\n",
        "        # Validation loop\n",
        "        model.eval()  # Set the model to evaluation mode\n",
        "        with torch.no_grad():  # Disable gradient calculation\n",
        "            val_loss = 0.0\n",
        "            val_metric = 0.0\n",
        "            for X_val, y_val in val_loader:\n",
        "                outputs_val = model(X_val)  # Make predictions\n",
        "                val_loss += criterion(outputs_val, y_val).item()  # Compute loss\n",
        "                val_metric += metric(outputs_val, y_val)\n",
        "\n",
        "            val_loss /= len(val_loader)\n",
        "            val_metric /= len(val_loader)\n",
        "\n",
        "        # Append epoch results to history\n",
        "        history['epoch'].append(epoch_loss)\n",
        "        history['train_loss'].append(epoch_loss)\n",
        "        history['train_metric'].append(epoch_metric)\n",
        "        history['val_loss'].append(val_loss)\n",
        "        history['val_metric'].append(val_metric)\n",
        "\n",
        "        print(f'Epoch [{epoch+1}/{num_epochs}], Train Loss: {epoch_loss:.4f}, '\n",
        "              f'Train Metric: {epoch_metric:.4f}, Val Loss: {val_loss:.4f}, '\n",
        "              f'Val Metric: {val_metric:.4f}')\n",
        "\n",
        "    return history, model"
      ]
    },
    {
      "cell_type": "code",
      "execution_count": null,
      "metadata": {
        "id": "Ev2ZkxlPGEe-"
      },
      "outputs": [],
      "source": [
        "criterion = torch.nn.CrossEntropyLoss()\n",
        "optimizer = torch.optim.Adam(model_nn.parameters(), lr=0.001)\n",
        "\n",
        "def accuracy_metric(target, pred):\n",
        "    target = target.argmax(dim=1)\n",
        "    return torch.sum(pred == target).item() / len(pred)"
      ]
    },
    {
      "cell_type": "code",
      "execution_count": null,
      "metadata": {
        "colab": {
          "base_uri": "https://localhost:8080/"
        },
        "id": "gDEm75CK3-TT",
        "outputId": "7235d21a-c406-4aa9-b202-7e42b77a134b"
      },
      "outputs": [
        {
          "name": "stdout",
          "output_type": "stream",
          "text": [
            "Epoch [1/20], Train Loss: 0.4480, Train Metric: 0.7975, Val Loss: 0.1572, Val Metric: 0.9667\n",
            "Epoch [2/20], Train Loss: 0.1564, Train Metric: 0.9500, Val Loss: 0.0655, Val Metric: 1.0000\n",
            "Epoch [3/20], Train Loss: 0.1003, Train Metric: 0.9675, Val Loss: 0.0496, Val Metric: 0.9889\n",
            "Epoch [4/20], Train Loss: 0.0765, Train Metric: 0.9775, Val Loss: 0.0318, Val Metric: 1.0000\n",
            "Epoch [5/20], Train Loss: 0.0637, Train Metric: 0.9800, Val Loss: 0.0281, Val Metric: 1.0000\n",
            "Epoch [6/20], Train Loss: 0.0546, Train Metric: 0.9850, Val Loss: 0.0296, Val Metric: 0.9889\n",
            "Epoch [7/20], Train Loss: 0.0485, Train Metric: 0.9858, Val Loss: 0.0211, Val Metric: 1.0000\n",
            "Epoch [8/20], Train Loss: 0.0409, Train Metric: 0.9900, Val Loss: 0.0280, Val Metric: 0.9889\n",
            "Epoch [9/20], Train Loss: 0.0377, Train Metric: 0.9925, Val Loss: 0.0270, Val Metric: 0.9889\n",
            "Epoch [10/20], Train Loss: 0.0321, Train Metric: 0.9925, Val Loss: 0.0208, Val Metric: 1.0000\n",
            "Epoch [11/20], Train Loss: 0.0285, Train Metric: 0.9950, Val Loss: 0.0127, Val Metric: 1.0000\n",
            "Epoch [12/20], Train Loss: 0.0265, Train Metric: 0.9925, Val Loss: 0.0191, Val Metric: 1.0000\n",
            "Epoch [13/20], Train Loss: 0.0226, Train Metric: 0.9950, Val Loss: 0.0153, Val Metric: 1.0000\n",
            "Epoch [14/20], Train Loss: 0.0191, Train Metric: 0.9925, Val Loss: 0.0170, Val Metric: 1.0000\n",
            "Epoch [15/20], Train Loss: 0.0157, Train Metric: 0.9950, Val Loss: 0.0132, Val Metric: 1.0000\n",
            "Epoch [16/20], Train Loss: 0.0166, Train Metric: 0.9950, Val Loss: 0.0103, Val Metric: 1.0000\n",
            "Epoch [17/20], Train Loss: 0.0130, Train Metric: 0.9925, Val Loss: 0.0175, Val Metric: 1.0000\n",
            "Epoch [18/20], Train Loss: 0.0121, Train Metric: 0.9950, Val Loss: 0.0159, Val Metric: 1.0000\n",
            "Epoch [19/20], Train Loss: 0.0109, Train Metric: 0.9975, Val Loss: 0.0190, Val Metric: 1.0000\n",
            "Epoch [20/20], Train Loss: 0.0092, Train Metric: 0.9950, Val Loss: 0.0257, Val Metric: 0.9889\n"
          ]
        }
      ],
      "source": [
        "history, model_nn = train_and_validate(train_loader, val_loader, model_nn,\n",
        "                                       optimizer=optimizer, criterion=criterion,\n",
        "                                       metric=accuracy_metric, num_epochs=20)\n",
        "torch.save(model_nn.state_dict(), \"my_pytorch_model.h5\")##Saving model weights"
      ]
    },
    {
      "cell_type": "code",
      "execution_count": null,
      "metadata": {
        "id": "45eqUaPcab35"
      },
      "outputs": [],
      "source": [
        "probas = model_nn(test_loader.dataset.X).detach()\n",
        "predictions = probas.argmax(dim=1)"
      ]
    },
    {
      "cell_type": "code",
      "execution_count": null,
      "metadata": {
        "id": "vS9O8egmrBGr",
        "outputId": "75add9e8-ddc7-4aee-f391-ad0086d00a7d"
      },
      "outputs": [
        {
          "data": {
            "image/png": "[encoded data removed]",
            "text/plain": [
              "<Figure size 640x480 with 2 Axes>"
            ]
          },
          "metadata": {},
          "output_type": "display_data"
        }
      ],
      "source": [
        "from sklearn.metrics import confusion_matrix\n",
        "import seaborn as sns\n",
        "\n",
        "cm = confusion_matrix(test_loader.dataset.y, predictions)\n",
        "sns.heatmap(cm, annot=True)\n",
        "plt.xlabel('Predicted labels')\n",
        "plt.ylabel('True labels')\n",
        "plt.title('Confusion Matrix')\n",
        "plt.show()"
      ]
    },
    {
      "cell_type": "code",
      "execution_count": null,
      "metadata": {
        "id": "D_ZzkUXLrBGr",
        "outputId": "fbe2242e-1c34-4703-f0cf-d589d430d823"
      },
      "outputs": [
        {
          "data": {
            "image/png": "[encoded data removed]",
            "text/plain": [
              "<Figure size 640x480 with 1 Axes>"
            ]
          },
          "metadata": {},
          "output_type": "display_data"
        }
      ],
      "source": [
        "display = RocCurveDisplay.from_predictions(\n",
        "    y_test, probas.numpy()[:, 1],\n",
        "    color=\"darkorange\",\n",
        "    # plot_chance_level=True,\n",
        ")\n",
        "_ = display.ax_.set(\n",
        "    xlabel=\"False Positive Rate\",\n",
        "    ylabel=\"True Positive Rate\",\n",
        "    title=\"Receiver operating characteristic\",\n",
        ")\n"
      ]
    },
    {
      "cell_type": "code",
      "execution_count": null,
      "metadata": {
        "id": "kEqbH0hXrBGr"
      },
      "outputs": [],
      "source": []
    }
  ],
  "metadata": {
    "accelerator": "GPU",
    "colab": {
      "include_colab_link": true,
      "provenance": []
    },
    "kernelspec": {
      "display_name": "Python 3",
      "language": "python",
      "name": "python3"
    },
    "language_info": {
      "codemirror_mode": {
        "name": "ipython",
        "version": 3
      },
      "file_extension": ".py",
      "mimetype": "text/x-python",
      "name": "python",
      "nbconvert_exporter": "python",
      "pygments_lexer": "ipython3",
      "version": "3.10.13"
    },
    "latex_envs": {
      "LaTeX_envs_menu_present": true,
      "autoclose": false,
      "autocomplete": true,
      "bibliofile": "biblio.bib",
      "cite_by": "apalike",
      "current_citInitial": 1,
      "eqLabelWithNumbers": true,
      "eqNumInitial": 1,
      "hotkeys": {
        "equation": "Ctrl-E",
        "itemize": "Ctrl-I"
      },
      "labels_anchors": false,
      "latex_user_defs": false,
      "report_style_numbering": false,
      "user_envs_cfg": false
    }
  },
  "nbformat": 4,
  "nbformat_minor": 0
}
